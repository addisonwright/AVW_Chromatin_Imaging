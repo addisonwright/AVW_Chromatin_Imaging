{
 "cells": [
  {
   "cell_type": "code",
   "execution_count": 2,
   "metadata": {},
   "outputs": [],
   "source": [
    "#External packages\n",
    "import sys,glob,os\n",
    "import numpy as np\n",
    "import cPickle as pickle\n",
    "import matplotlib.pylab as plt\n",
    "\n",
    "#Internal packages\n",
    "#add path\n",
    "workbookDir = os.getcwd()\n",
    "sys.path.append(os.path.dirname(workbookDir)+os.sep+r'\\CommonTools')\n",
    "#imports\n",
    "import IOTools as io\n",
    "import FittingTools as ft\n",
    "import AlignmentTools as at\n",
    "#for exmploring the data\n",
    "import MaxViewer as mv"
   ]
  },
  {
   "cell_type": "code",
   "execution_count": 4,
   "metadata": {},
   "outputs": [
    {
     "name": "stdout",
     "output_type": "stream",
     "text": [
      "[1, 2, 3, 4, 5, 6, 7, 8, 9]\n"
     ]
    }
   ],
   "source": [
    "list_ = [[1,2,3],[4,5,6],[7,8,9]]\n",
    "print ft.flatten(list_)"
   ]
  },
  {
   "cell_type": "code",
   "execution_count": null,
   "metadata": {},
   "outputs": [],
   "source": []
  }
 ],
 "metadata": {
  "kernelspec": {
   "display_name": "Python 2",
   "language": "python",
   "name": "python2"
  },
  "language_info": {
   "codemirror_mode": {
    "name": "ipython",
    "version": 2
   },
   "file_extension": ".py",
   "mimetype": "text/x-python",
   "name": "python",
   "nbconvert_exporter": "python",
   "pygments_lexer": "ipython2",
   "version": "2.7.15"
  }
 },
 "nbformat": 4,
 "nbformat_minor": 2
}
