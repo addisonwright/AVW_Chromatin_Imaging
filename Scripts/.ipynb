{
 "cells": [
  {
   "cell_type": "code",
   "execution_count": 2,
   "metadata": {},
   "outputs": [],
   "source": [
    "#External packages\n",
    "import sys,glob,os\n",
    "import numpy as np\n",
    "import cPickle as pickle\n",
    "import matplotlib.pylab as plt\n",
    "\n",
    "#Internal packages\n",
    "#add path\n",
    "workbookDir = os.getcwd()\n",
    "sys.path.append(os.path.dirname(workbookDir)+os.sep+r'\\CommonTools')\n",
    "#imports\n",
    "import IOTools as io\n",
    "import FittingTools as ft\n",
    "import AlignmentTools as at\n",
    "#for exmploring the data\n",
    "import MaxViewer as mv"
   ]
  },
  {
   "cell_type": "markdown",
   "metadata": {},
   "source": [
    "Plan for analysis:\n",
    "-Old data:\n",
    "    Fit FISH data for PFA and GA, compare spots per nucleus and brightness distribution\n",
    "-New data:\n",
    "    Optimize spot-fitting for gH2AX foci\n",
    "    Fit gH2AX foci, compare distributions for both PFA vs GA and before and after FISH for new GA"
   ]
  },
  {
   "cell_type": "code",
   "execution_count": 6,
   "metadata": {},
   "outputs": [],
   "source": [
    "old_data_folder = r'T:\\20190305_post_fix_test'\n",
    "PFA_folder = old_data_folder + os.sep + 'PFA'\n",
    "EGS_folder = old_data_folder + os.sep + 'EGS-5_mM'\n",
    "old_subfolders = [PFA_folder, EGS_folder]\n",
    "analysis_folder = old_data_folder + os.sep + 'analysis'\n",
    "PFA_daxs = [fl for fl in glob.glob(PFA_folder + os.sep + '*.dax')]\n",
    "EGS_daxs = [fl for fl in glob.glob(EGS_folder + os.sep + '*.dax')]\n"
   ]
  },
  {
   "cell_type": "code",
   "execution_count": null,
   "metadata": {},
   "outputs": [],
   "source": [
    "%matplotlib notebook"
   ]
  },
  {
   "cell_type": "code",
   "execution_count": null,
   "metadata": {},
   "outputs": [
    {
     "name": "stdout",
     "output_type": "stream",
     "text": [
      "FittingT:\\20190305_post_fix_test\\PFA\\test_0001.dax\n",
      "FittingT:\\20190305_post_fix_test\\PFA\\test_0002.dax\n",
      "FittingT:\\20190305_post_fix_test\\PFA\\test_0003.dax\n"
     ]
    }
   ],
   "source": [
    "#Fit FISH data\n",
    "for fov in PFA_daxs:\n",
    "    finalfit_fl = fov.replace('.dax','_finalfit.npy')\n",
    "    im = io.DaxReader(fov).loadMap()\n",
    "    im_750 = im[0:41]\n",
    "    print \"Fitting\" + fov\n",
    "    zxyh = ft.return_candidate_centers(im_750,dist_th=20,ex=20,ey=20,ez=2,gmin=2,gmax=5,filtsz=5,th_seed=6,\n",
    "                                       plt_val=False,save_file=fov.replace('.dax','_fits0.pkl'));\n",
    "    np.save(finalfit_fl,zxyh)"
   ]
  },
  {
   "cell_type": "code",
   "execution_count": null,
   "metadata": {},
   "outputs": [],
   "source": [
    "final_fit_fls = glob.glob()"
   ]
  }
 ],
 "metadata": {
  "kernelspec": {
   "display_name": "Python 2",
   "language": "python",
   "name": "python2"
  },
  "language_info": {
   "codemirror_mode": {
    "name": "ipython",
    "version": 2
   },
   "file_extension": ".py",
   "mimetype": "text/x-python",
   "name": "python",
   "nbconvert_exporter": "python",
   "pygments_lexer": "ipython2",
   "version": "2.7.15"
  }
 },
 "nbformat": 4,
 "nbformat_minor": 2
}
